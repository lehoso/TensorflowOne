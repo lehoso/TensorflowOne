{
 "cells": [
  {
   "cell_type": "code",
   "execution_count": null,
   "metadata": {
    "collapsed": true
   },
   "outputs": [],
   "source": [
    "# 读取数据\n",
    "from keras.preprocessing.image import ImageDataGenerator\n",
    "\n",
    "IMSIZE = 224\n",
    "train_generator = ImageDataGenerator(rescale=1. / 255).flow_from_directory('../../data/data_inception/train',\n",
    "                                                                           target_size=(IMSIZE, IMSIZE),\n",
    "                                                                           batch_size=100,\n",
    "                                                                           class_mode='categorical'\n",
    "                                                                           )\n",
    "\n",
    "validation_generator = ImageDataGenerator(rescale=1. / 255).flow_from_directory('../../data/data_inception/test',\n",
    "                                                                                target_size=(IMSIZE, IMSIZE),\n",
    "                                                                                batch_size=100,\n",
    "                                                                                class_mode='categorical')"
   ]
  },
  {
   "cell_type": "code",
   "execution_count": null,
   "outputs": [],
   "source": [
    "# 展示数据\n",
    "from matplotlib import pyplot as plt\n",
    "\n",
    "plt.figure()\n",
    "fig, ax = plt.subplots(2, 5)\n",
    "fig.set_figheight(7)\n",
    "fig.set_figwidth(15)\n",
    "ax = ax.flatten()\n",
    "X, Y = next(train_generator)\n",
    "for i in range(10): ax[i].imshow(X[i, :, :,: ])"
   ],
   "metadata": {
    "collapsed": false,
    "pycharm": {
     "name": "#%%\n"
    }
   }
  }
 ],
 "metadata": {
  "kernelspec": {
   "display_name": "Python 3",
   "language": "python",
   "name": "python3"
  },
  "language_info": {
   "codemirror_mode": {
    "name": "ipython",
    "version": 2
   },
   "file_extension": ".py",
   "mimetype": "text/x-python",
   "name": "python",
   "nbconvert_exporter": "python",
   "pygments_lexer": "ipython2",
   "version": "2.7.6"
  }
 },
 "nbformat": 4,
 "nbformat_minor": 0
}