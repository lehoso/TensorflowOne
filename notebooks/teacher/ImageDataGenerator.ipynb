{
 "cells": [
  {
   "cell_type": "code",
   "execution_count": null,
   "metadata": {
    "collapsed": true
   },
   "outputs": [],
   "source": [
    "from keras.preprocessing.image import ImageDataGenerator\n",
    "\n",
    "Imsize = 256\n",
    "train_generator = ImageDataGenerator(rescale=1. / 255).flow_from_directory(\"../../data/hymenoptera_data/train\",\n",
    "                                                                           target_size=(Imsize, Imsize),\n",
    "                                                                           batch_size=50,\n",
    "                                                                           class_mode='categorical')\n",
    "x, y = next(train_generator)\n",
    "y\n",
    "\n"
   ]
  }
 ],
 "metadata": {
  "kernelspec": {
   "display_name": "Python 3",
   "language": "python",
   "name": "python3"
  },
  "language_info": {
   "codemirror_mode": {
    "name": "ipython",
    "version": 2
   },
   "file_extension": ".py",
   "mimetype": "text/x-python",
   "name": "python",
   "nbconvert_exporter": "python",
   "pygments_lexer": "ipython2",
   "version": "2.7.6"
  }
 },
 "nbformat": 4,
 "nbformat_minor": 0
}