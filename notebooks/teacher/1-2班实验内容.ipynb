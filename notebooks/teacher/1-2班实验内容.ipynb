{
 "cells": [
  {
   "cell_type": "code",
   "execution_count": null,
   "metadata": {
    "collapsed": true
   },
   "outputs": [],
   "source": [
    "# excel 文件的读取\n",
    "## pandas里面的read_excel\n",
    "import pandas as pd\n",
    "\n",
    "data_yzw = pd.read_excel('D:\\Developer\\JetBrains\\www.jetbrains.com\\JetBrainsDemo\\PycharmP\\Crawler\\yzw\\研招网专业信息.xls',\n",
    "                               sheet_name=\"Sheet1\")\n",
    "data_yzw[:5]\n",
    "data_yzw.iloc[1, 1]\n",
    "\n",
    "# csv文件读取方法\n",
    "## pandas里面的read_csv\n",
    "# -*- coding: utf-8 -*-\n",
    "data_csv = pd.read_csv(\"D:\\Developer\\JetBrains\\www.jetbrains.com\\JetBrainsDemo\\PycharmP\\Crawler\\yzw\\yzw.csv\",\n",
    "                       encoding=\"gbk\")\n",
    "data_csv[:5]\n",
    "data_csv.iloc[1, 1]\n",
    "\n",
    "# 图片的读取和展示\n",
    "## 使用open CV读取\n",
    "import cv2\n",
    "\n",
    "cv2_image = cv2.imread('E:\\ChromeDownload\\Sheya\\897028310.jpg')\n",
    "cv2.imshow('cv2_image', cv2_image)\n",
    "cv2.waitKey()\n",
    "cv2.destroyAllWindows()\n",
    "\n",
    "print(cv2_image.shape)\n",
    "print(type(cv2_image))\n",
    "\n",
    "##使用PIL读取图片\n",
    "from PIL import Image\n",
    "from matplotlib import pyplot as plt\n",
    "import numpy as np\n",
    "\n",
    "pil_image = Image.open('E:\\ChromeDownload\\Sheya\\880524660.jpg')\n",
    "pil_array = np.array(pil_image)\n",
    "plt.imfow(pil_array)\n",
    "plt.show()\n",
    "print(pil_array.shape)\n",
    "print(type(pil_array))\n",
    "\n",
    "# 使用kreas读取图片\n",
    "from keras.preprocessing.image import array_to_img, img_to_array, load_img\n",
    "import numpy as np\n",
    "\n",
    "load_imgs = load_img('E:\\ChromeDownload\\Sheya\\880524660.jpg')\n",
    "load_img_image = np.array(load_imgs)\n",
    "print(load_img_image.shape)\n",
    "print(type(load_img_image))\n",
    "\n",
    "# 使用matplotlib\n",
    "## 使用PIL库读取图片并使用.array函数转换为矩阵形式，使用matplotlib包展示图片，输出转换图片的尺寸、形状、数据类型。\n",
    "import matplotlib.pyplot as plt\n",
    "\n",
    "img_plt = plt.imread('D:\\Developer\\ToneC\\IDMDL\\928679220.jfif')\n",
    "img_plt_array = np.array(img_plt)\n",
    "print(img_plt_array)\n",
    "plt.imshow(img_plt)\n",
    "plt.show()\n",
    "print(img_plt.shape)\n",
    "print(type(img_plt))\n"
   ]
  }
 ],
 "metadata": {
  "kernelspec": {
   "display_name": "Python 3 (ipykernel)",
   "language": "python",
   "name": "python3"
  },
  "language_info": {
   "codemirror_mode": {
    "name": "ipython",
    "version": 3
   },
   "file_extension": ".py",
   "mimetype": "text/x-python",
   "name": "python",
   "nbconvert_exporter": "python",
   "pygments_lexer": "ipython3",
   "version": "3.7.12"
  }
 },
 "nbformat": 4,
 "nbformat_minor": 1
}